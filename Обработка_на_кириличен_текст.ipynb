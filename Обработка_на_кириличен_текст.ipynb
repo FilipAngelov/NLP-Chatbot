{
  "nbformat": 4,
  "nbformat_minor": 0,
  "metadata": {
    "colab": {
      "name": "Обработка на кириличен текст.ipynb",
      "provenance": []
    },
    "kernelspec": {
      "name": "python3",
      "display_name": "Python 3"
    }
  },
  "cells": [
    {
      "cell_type": "code",
      "metadata": {
        "id": "tg7JEzRBVVXk",
        "colab_type": "code",
        "colab": {
          "base_uri": "https://localhost:8080/",
          "height": 52
        },
        "outputId": "2aad6e70-bb30-4de1-a3e3-aa34cafe5b96"
      },
      "source": [
        "#General modules\n",
        "import numpy as np\n",
        "import pandas as pd\n",
        "import matplotlib.pyplot as plt\n",
        "\n",
        "# Text processing modules\n",
        "import string\n",
        "import re\n",
        "import nltk\n",
        "nltk.download('punkt')\n",
        "\n",
        "# ML modules\n",
        "from sklearn.feature_extraction.text import CountVectorizer"
      ],
      "execution_count": 7,
      "outputs": [
        {
          "output_type": "stream",
          "text": [
            "[nltk_data] Downloading package punkt to /root/nltk_data...\n",
            "[nltk_data]   Package punkt is already up-to-date!\n"
          ],
          "name": "stdout"
        }
      ]
    },
    {
      "cell_type": "code",
      "metadata": {
        "id": "F9AKBo3u4M8n",
        "colab_type": "code",
        "colab": {
          "base_uri": "https://localhost:8080/",
          "height": 54
        },
        "outputId": "3f3018c5-6ee5-4117-c2a0-f45980d5d2e5"
      },
      "source": [
        "file = open('stop_words.txt', 'r')\n",
        "sw=file.read().split()\n",
        "file.close()\n",
        "print(sw)"
      ],
      "execution_count": 8,
      "outputs": [
        {
          "output_type": "stream",
          "text": [
            "['беше', 'еден', 'едно', 'јас', 'рече', 'сите', 'сум', 'ние', 'сме', 'овде', 'исто', 'така', 'на', 'и', 'во', 'се', 'го', 'не', 'да', 'е', 'што', 'од', 'со', 'за', 'или', 'тоа', 'ја', 'по', 'тој', 'но', 'а', 'ги', 'до', 'таа', 'му', 'кои', 'па', 'нив', 'ни', 'ќе', 'кој', 'итн', 'бил', 'кај', 'ова', 'врз', 'над', 'тие', 'a', 'две', 'би', 'она', 'неа', 'си', 'кое', 'ако', 'два', 'има', 'в', 'како', 'само', 'дека', 'една', 'туку', 'кога', 'сега', 'ми', 'потоа', 'низ', 'ти', 'кон', 'додека', 'веќе', 'нешто', 'него', 'уште', 'таму', 'ли', 'под', 'беа', 'ме', 'некој', 'ништо', 'тука', 'пред', 'им', 'каде', 'повторно', 'ниту', 'биде', 'толку', 'никогаш', 'мене', 'дали', 'тогаш', 'своите', 'сето', 'без', 'нема', 'околу', 'многу', 'полека', 'секогаш', 'зошто', 'те', 'добро', 'можеби', 'колку', 'можеше', 'нивните', 'преку', 'миг', 'знам', 'малку', 'вратата', 'ох', 'навистина', 'оваа', 'покрај', 'повеќе', 'овој', 'сеуште', 'имаше', 'својата', 'неговите', 'неговата', 'друго', 'зашто', 'немаше', 'воопшто', 'понекогаш', 'ах', 'зад', 'еднаш', 'својот', 'дури', 'себе', 'ви', 'токму', 'зарем', 'сте', 'било', 'сосема', 'секој', 'неговото', 'друг', 'мошне', 'ајде', 'можел', 'може', 'која', 'при', 'пак', 'сè', 'други', 'треба', 'ама', 'после', 'некоја', 'нас', 'бе', 'никој', 'одма', 'сѐ', 'ај', 'нѐ', 'неколку', 'вие', 'оние', 'мора', 'оди', 'еј']\n"
          ],
          "name": "stdout"
        }
      ]
    },
    {
      "cell_type": "code",
      "metadata": {
        "id": "9AjoqnX36pqD",
        "colab_type": "code",
        "colab": {}
      },
      "source": [
        "def clean_text(source, stop_words_list):\n",
        "  # Loading the data from the source\n",
        "  data = pd.read_csv(source)\n",
        "\n",
        "\n",
        "  # Spliting into questions, answers and categories\n",
        "  questions = data.iloc[:, 0]\n",
        "  answers = data.iloc[:, 1]\n",
        "  categories = data.iloc[:, 2]\n",
        "  category_codes = data.iloc[:, 3]\n",
        "\n",
        "  # Converting to questions to lower case\n",
        "  questions = [q.lower() for q in questions]\n",
        "\n",
        "\n",
        "  # Removing punctuation\n",
        "  questions = [q.replace('--', ' ') for q in questions]\n",
        "  rm_punct = str.maketrans('', '', string.punctuation+'„\"')\n",
        "  questions = [q.translate(rm_punct) for q in questions]\n",
        "\n",
        "\n",
        "  # Split/Tokenize\n",
        "  questions = [re.sub(' +', ' ', q) for q in questions]\n",
        "  questions = [q.split(' ') for q in questions]\n",
        "\n",
        "\n",
        "  # All-in-one\n",
        "  #questions = [q.translate(rm_punct).replace('--', ' ').split(' ') for q in questions]\n",
        "\n",
        "\n",
        "  # Drop stop-words\n",
        "  for q in questions:\n",
        "    q = [q.remove(word) for word in q[:] if word in stop_words_list]\n",
        "    \n",
        "  return questions, answers, categories, category_codes"
      ],
      "execution_count": 9,
      "outputs": []
    },
    {
      "cell_type": "code",
      "metadata": {
        "colab_type": "code",
        "id": "NIoVX8kZ7Uy8",
        "colab": {
          "base_uri": "https://localhost:8080/",
          "height": 382
        },
        "outputId": "084e71e4-0a53-45e3-f4f6-8897c0c829cd"
      },
      "source": [
        "%time\n",
        "qus, ans, cats, cat_codes = clean_text('data_brainster.csv', sw)\n",
        "\n",
        "qus[:10]"
      ],
      "execution_count": 10,
      "outputs": [
        {
          "output_type": "stream",
          "text": [
            "CPU times: user 2 µs, sys: 1e+03 ns, total: 3 µs\n",
            "Wall time: 6.2 µs\n"
          ],
          "name": "stdout"
        },
        {
          "output_type": "execute_result",
          "data": {
            "text/plain": [
              "[['кирилакадемијата',\n",
              "  'дигитален',\n",
              "  'маркетинг',\n",
              "  'искористи',\n",
              "  'ваучерот',\n",
              "  'обука',\n",
              "  'млади',\n",
              "  'лица',\n",
              "  'нуди',\n",
              "  'владата'],\n",
              " ['месеци', 'недели', 'академијата', 'дигитален', 'маркетинг'],\n",
              " ['одвива', 'наставата', 'академијата', 'дигитален', 'маркетинг'],\n",
              " ['наставата', 'маркетинг', 'online'],\n",
              " ['часа', 'неделно', 'маркетинг', 'академијата'],\n",
              " ['каква', 'опрема', 'потребна', 'академијата', 'дигитален', 'маркетинг'],\n",
              " ['слушам', 'дигитален', 'маркетинг'],\n",
              " ['изучува', 'академијата', 'дигитален', 'маркетинг'],\n",
              " ['учи', 'дигитален', 'маркетинг'],\n",
              " ['слободни', 'места', 'академијата', 'дигитален', 'маркетинг']]"
            ]
          },
          "metadata": {
            "tags": []
          },
          "execution_count": 10
        }
      ]
    },
    {
      "cell_type": "code",
      "metadata": {
        "id": "TOAWuStYKBeb",
        "colab_type": "code",
        "colab": {
          "base_uri": "https://localhost:8080/",
          "height": 208
        },
        "outputId": "fab72b59-2ad0-4e0b-e394-58e4eabc9555"
      },
      "source": [
        "ans[:10]"
      ],
      "execution_count": 6,
      "outputs": [
        {
          "output_type": "execute_result",
          "data": {
            "text/plain": [
              "0    Академијата за дигитален маркетинг трае 23 нед...\n",
              "1    Академијата за дигитален маркетинг трае 23 нед...\n",
              "2    Наставата за академијата за дигитален маркетин...\n",
              "3    Наставата за академијата за дигитален маркетин...\n",
              "4    Неделно се одржуваат три часови во времетрање ...\n",
              "5    За успешно следење на наставата во рамките на ...\n",
              "6    За успешно следење на наставата во рамките на ...\n",
              "7    Академијата за дигитален маркетинг е предвиден...\n",
              "8    Академијата за дигитален маркетинг е предвиден...\n",
              "9    Повеќе информации за уписи и слободни места на...\n",
              "Name: answers, dtype: object"
            ]
          },
          "metadata": {
            "tags": []
          },
          "execution_count": 6
        }
      ]
    },
    {
      "cell_type": "code",
      "metadata": {
        "id": "3vfgv9wMwr4h",
        "colab_type": "code",
        "colab": {
          "base_uri": "https://localhost:8080/",
          "height": 191
        },
        "outputId": "75d502a5-dc20-4b4e-953b-4c810554d2b8"
      },
      "source": [
        "# Building the corpus\n",
        "\n",
        "def list_to_str(list_):\n",
        "  return ' '.join(list_)\n",
        "\n",
        "corpus = [list_to_str(q) for q in qus]\n",
        "\n",
        "corpus[:10]"
      ],
      "execution_count": null,
      "outputs": [
        {
          "output_type": "execute_result",
          "data": {
            "text/plain": [
              "['време трае академијата дигитален маркетинг',\n",
              " 'месеци недели академијата дигитален маркетинг',\n",
              " 'одвива наставата академијата дигитален маркетинг',\n",
              " 'наставата маркетинг online',\n",
              " 'часа неделно маркетинг академијата',\n",
              " 'каква опрема потребна академијата дигитален маркетинг',\n",
              " 'слушам дигитален маркетинг',\n",
              " 'изучува академијата дигитален маркетинг',\n",
              " 'учи дигитален маркетинг',\n",
              " 'слободни места академијата дигитален маркетинг']"
            ]
          },
          "metadata": {
            "tags": []
          },
          "execution_count": 9
        }
      ]
    },
    {
      "cell_type": "code",
      "metadata": {
        "id": "gWll1zPQxL-U",
        "colab_type": "code",
        "colab": {}
      },
      "source": [
        "# Builting the Vectorized features\n",
        "count_vectorizer = CountVectorizer() #probaj bez max_features\n",
        "count_vectorizer.fit(corpus)\n",
        "\n",
        "corpus_vec = count_vectorizer.transform(corpus)"
      ],
      "execution_count": null,
      "outputs": []
    },
    {
      "cell_type": "code",
      "metadata": {
        "id": "hWJkfWy5xmNF",
        "colab_type": "code",
        "colab": {
          "base_uri": "https://localhost:8080/",
          "height": 104
        },
        "outputId": "c88434cb-19fc-4c28-95b4-0711c383bbd1"
      },
      "source": [
        "print(corpus_vec[0])"
      ],
      "execution_count": null,
      "outputs": [
        {
          "output_type": "stream",
          "text": [
            "  (0, 72)\t1\n",
            "  (0, 104)\t1\n",
            "  (0, 122)\t1\n",
            "  (0, 231)\t1\n",
            "  (0, 485)\t1\n"
          ],
          "name": "stdout"
        }
      ]
    },
    {
      "cell_type": "code",
      "metadata": {
        "id": "l2Oc6CNmQZ08",
        "colab_type": "code",
        "colab": {
          "base_uri": "https://localhost:8080/",
          "height": 35
        },
        "outputId": "a8845825-98d7-42b1-9989-3adb6516762d"
      },
      "source": [
        "def istakniSlogotvornoR(niz):\n",
        "\treturn re.sub(r'(^|[^aeiou])r($|[^aeiou])',r'\\1R\\2',niz)\n",
        "\n",
        "re.search()"
      ],
      "execution_count": null,
      "outputs": [
        {
          "output_type": "execute_result",
          "data": {
            "application/vnd.google.colaboratory.intrinsic": {
              "type": "string"
            },
            "text/plain": [
              "'Rzav'"
            ]
          },
          "metadata": {
            "tags": []
          },
          "execution_count": 21
        }
      ]
    },
    {
      "cell_type": "code",
      "metadata": {
        "id": "3zbAFPCJ7HL5",
        "colab_type": "code",
        "colab": {}
      },
      "source": [
        ""
      ],
      "execution_count": null,
      "outputs": []
    },
    {
      "cell_type": "code",
      "metadata": {
        "id": "MYekc-4nEjkO",
        "colab_type": "code",
        "colab": {
          "base_uri": "https://localhost:8080/",
          "height": 1000
        },
        "outputId": "566ad57c-5beb-448e-db11-b73b640dd3b6"
      },
      "source": [
        "# Stemmer in Macedonian\n",
        "\n",
        "to_remove = ['та']\n",
        "\n",
        "for rem in to_remove:\n",
        "  for q in qus:\n",
        "    for word in q:\n",
        "      if word.endswith(rem):\n",
        "        print(word)\n",
        "        cut_size = len(rem)\n",
        "        word = word[:-cut_size]\n",
        "        print(word)\n",
        "#qus[:5]"
      ],
      "execution_count": null,
      "outputs": [
        {
          "output_type": "stream",
          "text": [
            "академијата\n",
            "академија\n",
            "наставата\n",
            "настава\n",
            "академијата\n",
            "академија\n",
            "академијата\n",
            "академија\n",
            "академијата\n",
            "академија\n",
            "академијата\n",
            "академија\n",
            "места\n",
            "мес\n",
            "академијата\n",
            "академија\n",
            "следната\n",
            "следна\n",
            "академијата\n",
            "академија\n",
            "наставата\n",
            "настава\n",
            "работа\n",
            "рабо\n",
            "академијата\n",
            "академија\n",
            "академијата\n",
            "академија\n",
            "областа\n",
            "облас\n",
            "академијата\n",
            "академија\n",
            "цената\n",
            "цена\n",
            "академијата\n",
            "академија\n",
            "академијата\n",
            "академија\n",
            "академијата\n",
            "академија\n",
            "академијата\n",
            "академија\n",
            "академијата\n",
            "академија\n",
            "работа\n",
            "рабо\n",
            "академијата\n",
            "академија\n",
            "работата\n",
            "работа\n",
            "академијата\n",
            "академија\n",
            "академијата\n",
            "академија\n",
            "вашата\n",
            "ваша\n",
            "академијата\n",
            "академија\n",
            "академијата\n",
            "академија\n",
            "групата\n",
            "група\n",
            "пополнета\n",
            "пополне\n",
            "академијата\n",
            "академија\n",
            "академијата\n",
            "академија\n",
            "ситуацијата\n",
            "ситуација\n",
            "академијата\n",
            "академија\n",
            "академијата\n",
            "академија\n",
            "дипломата\n",
            "диплома\n",
            "академијата\n",
            "академија\n",
            "академијата\n",
            "академија\n",
            "владата\n",
            "влада\n"
          ],
          "name": "stdout"
        }
      ]
    },
    {
      "cell_type": "code",
      "metadata": {
        "id": "-impynZJj3yR",
        "colab_type": "code",
        "colab": {
          "base_uri": "https://localhost:8080/",
          "height": 34
        },
        "outputId": "8f5e64d1-4c41-4f31-9263-dfbd17f8e165"
      },
      "source": [
        "word = 'бравата'\n",
        "rem = 'та'\n",
        "\n",
        "if word.endswith(rem):\n",
        "  cut_size = len(rem)\n",
        "  word = word[:-cut_size]\n",
        "\n",
        "print(word)"
      ],
      "execution_count": null,
      "outputs": [
        {
          "output_type": "stream",
          "text": [
            "брава\n"
          ],
          "name": "stdout"
        }
      ]
    },
    {
      "cell_type": "markdown",
      "metadata": {
        "id": "19NOE5xcZ-HV",
        "colab_type": "text"
      },
      "source": [
        "1. Мали букви\n",
        "2. Тргање на интерпункција\n",
        "3. Токенизација\n",
        "4. Тргање на stop words\n",
        "5. Стеминг"
      ]
    },
    {
      "cell_type": "code",
      "metadata": {
        "id": "_qzjsJTZVwqF",
        "colab_type": "code",
        "colab": {}
      },
      "source": [
        "text = 'Денови ли се денови, „аргатски\" маки големи. Како на вратот ѓердани, ниски камења стуедни, така на плешки денови легнале -та натежнале!'"
      ],
      "execution_count": null,
      "outputs": []
    },
    {
      "cell_type": "code",
      "metadata": {
        "id": "7YYvRejRV9Yh",
        "colab_type": "code",
        "colab": {
          "base_uri": "https://localhost:8080/",
          "height": 54
        },
        "outputId": "0986ee85-6ae2-458f-cafb-f115677d0aef"
      },
      "source": [
        "text_1 = str(text).translate(str.maketrans('','',string.punctuation+'„\"'))\n",
        "print(text_1)"
      ],
      "execution_count": null,
      "outputs": [
        {
          "output_type": "stream",
          "text": [
            "Денови ли се денови аргатски маки големи Како на вратот ѓердани ниски камења стуедни така на плешки денови легнале та натежнале\n"
          ],
          "name": "stdout"
        }
      ]
    },
    {
      "cell_type": "code",
      "metadata": {
        "id": "0B3ipxSDV_C2",
        "colab_type": "code",
        "colab": {}
      },
      "source": [
        "nltk.word_tokenize(text_1)"
      ],
      "execution_count": null,
      "outputs": []
    },
    {
      "cell_type": "code",
      "metadata": {
        "id": "TjlrNQ9dehl6",
        "colab_type": "code",
        "colab": {}
      },
      "source": [
        "text_2 = text_1"
      ],
      "execution_count": null,
      "outputs": []
    },
    {
      "cell_type": "code",
      "metadata": {
        "id": "50Fy--OdZQrk",
        "colab_type": "code",
        "colab": {
          "base_uri": "https://localhost:8080/",
          "height": 173
        },
        "outputId": "18418195-e3fa-48ad-efab-a6592e5bd65b"
      },
      "source": [
        "text_2 = ['денови', 'ли', 'се', 'денови']\n",
        "rem_list = ['ови']\n",
        "\n",
        "text_3 = []\n",
        "\n",
        "for rem in rem_list:\n",
        "  print('Current rem =', rem)\n",
        "  for word in text_2:\n",
        "    if word.endswith(rem):\n",
        "      print(f'{word} ends in {rem}')\n",
        "      print(f'Was: {word}')\n",
        "      word = word.replace(rem, '')\n",
        "      print(f'Now is: {word}')\n",
        "    text_3.append(word)\n",
        "\n",
        "print(text_2)\n",
        "\n",
        "print(text_3)"
      ],
      "execution_count": null,
      "outputs": [
        {
          "output_type": "stream",
          "text": [
            "Current rem = ови\n",
            "денови ends in ови\n",
            "Was: денови\n",
            "Now is: ден\n",
            "денови ends in ови\n",
            "Was: денови\n",
            "Now is: ден\n",
            "['денови', 'ли', 'се', 'денови']\n",
            "['ден', 'ли', 'се', 'ден']\n"
          ],
          "name": "stdout"
        }
      ]
    },
    {
      "cell_type": "code",
      "metadata": {
        "id": "-Fec3nSbem1M",
        "colab_type": "code",
        "colab": {
          "base_uri": "https://localhost:8080/",
          "height": 54
        },
        "outputId": "80bf92e1-9551-4232-eb69-34d6a462e5ad"
      },
      "source": [
        ""
      ],
      "execution_count": null,
      "outputs": [
        {
          "output_type": "stream",
          "text": [
            "['Д', 'е', 'н', 'о', 'в', 'и', ' ', 'л', 'и', ' ', 'с', 'е', ' ', 'д', 'е', 'н', 'о', 'в', 'и', ' ', 'а', 'р', 'г', 'а', 'т', 'с', 'к', 'и', ' ', 'м', 'а', 'к', 'и', ' ', 'г', 'о', 'л', 'е', 'м', 'и', ' ', 'К', 'а', 'к', 'о', ' ', 'н', 'а', ' ', 'в', 'р', 'а', 'т', 'о', 'т', ' ', 'ѓ', 'е', 'р', 'д', 'а', 'н', 'и', ' ', 'н', 'и', 'с', 'к', 'и', ' ', 'к', 'а', 'м', 'е', 'њ', 'а', ' ', 'с', 'т', 'у', 'е', 'д', 'н', 'и', ' ', 'т', 'а', 'к', 'а', ' ', 'н', 'а', ' ', 'п', 'л', 'е', 'ш', 'к', 'и', ' ', 'д', 'е', 'н', 'о', 'в', 'и', ' ', 'л', 'е', 'г', 'н', 'а', 'л', 'е', ' ', 'т', 'а', ' ', 'н', 'а', 'т', 'е', 'ж', 'н', 'а', 'л', 'е']\n"
          ],
          "name": "stdout"
        }
      ]
    },
    {
      "cell_type": "code",
      "metadata": {
        "id": "PUW-Lio4WMhg",
        "colab_type": "code",
        "colab": {
          "base_uri": "https://localhost:8080/",
          "height": 34
        },
        "outputId": "f65c4508-4d35-4aa5-9d7f-bb24461fb11e"
      },
      "source": [
        "'денови'.endswith(str('ови'))"
      ],
      "execution_count": null,
      "outputs": [
        {
          "output_type": "execute_result",
          "data": {
            "text/plain": [
              "True"
            ]
          },
          "metadata": {
            "tags": []
          },
          "execution_count": 31
        }
      ]
    },
    {
      "cell_type": "code",
      "metadata": {
        "id": "LZULyxANdxY-",
        "colab_type": "code",
        "colab": {}
      },
      "source": [
        "x = 'denovi'\n",
        "x = x[:-len('ovi')]"
      ],
      "execution_count": null,
      "outputs": []
    },
    {
      "cell_type": "code",
      "metadata": {
        "id": "aMX9BDndeH54",
        "colab_type": "code",
        "colab": {
          "base_uri": "https://localhost:8080/",
          "height": 35
        },
        "outputId": "6e19319c-cb8b-4b40-c00c-712d0793a5cc"
      },
      "source": [
        "x"
      ],
      "execution_count": null,
      "outputs": [
        {
          "output_type": "execute_result",
          "data": {
            "application/vnd.google.colaboratory.intrinsic": {
              "type": "string"
            },
            "text/plain": [
              "'den'"
            ]
          },
          "metadata": {
            "tags": []
          },
          "execution_count": 34
        }
      ]
    },
    {
      "cell_type": "code",
      "metadata": {
        "id": "DniYFdY1eInS",
        "colab_type": "code",
        "colab": {}
      },
      "source": [
        "stop_words_mk = pd.read_csv('stop_words.txt', names=['Kol'])\n",
        "stop_words_mk = list(stop_words_mk['Kol'])"
      ],
      "execution_count": null,
      "outputs": []
    },
    {
      "cell_type": "code",
      "metadata": {
        "id": "Ulf_TYu9y-Vt",
        "colab_type": "code",
        "colab": {
          "base_uri": "https://localhost:8080/",
          "height": 34
        },
        "outputId": "d740c94f-aeb8-4e84-be90-f1d9edcf185e"
      },
      "source": [
        "stop_words_mk[:10]"
      ],
      "execution_count": null,
      "outputs": [
        {
          "output_type": "execute_result",
          "data": {
            "text/plain": [
              "['беше', 'еден', 'едно', 'јас', 'рече', 'сите', 'сум', 'ние', 'сме', 'овде']"
            ]
          },
          "metadata": {
            "tags": []
          },
          "execution_count": 6
        }
      ]
    },
    {
      "cell_type": "code",
      "metadata": {
        "id": "0jXtQgfVzGkR",
        "colab_type": "code",
        "colab": {}
      },
      "source": [
        "# Функција за мали букви\n",
        "def lower_case(text_input):\n",
        "  return str(text_input.lower())"
      ],
      "execution_count": null,
      "outputs": []
    },
    {
      "cell_type": "code",
      "metadata": {
        "id": "9ZbekFBt3lkZ",
        "colab_type": "code",
        "colab": {
          "base_uri": "https://localhost:8080/",
          "height": 35
        },
        "outputId": "6adefa72-ba7e-468a-cc4a-b49165bff81c"
      },
      "source": [
        "lower_case('Денови ли се денови аргатски маки големи Како')"
      ],
      "execution_count": null,
      "outputs": [
        {
          "output_type": "execute_result",
          "data": {
            "application/vnd.google.colaboratory.intrinsic": {
              "type": "string"
            },
            "text/plain": [
              "'денови ли се денови аргатски маки големи како'"
            ]
          },
          "metadata": {
            "tags": []
          },
          "execution_count": 90
        }
      ]
    },
    {
      "cell_type": "code",
      "metadata": {
        "id": "S8w7Kjen3qMp",
        "colab_type": "code",
        "colab": {}
      },
      "source": [
        "# Функција за тргање на интерпункција (бара да се вчита string)\n",
        "def remove_interpuction(text_input):\n",
        "  return str(text_input).translate(str.maketrans('','',string.punctuation+'„\"'))"
      ],
      "execution_count": null,
      "outputs": []
    },
    {
      "cell_type": "code",
      "metadata": {
        "id": "-iUsnAhw4FDs",
        "colab_type": "code",
        "colab": {
          "base_uri": "https://localhost:8080/",
          "height": 35
        },
        "outputId": "7c26a3f7-5833-46f8-df9b-8c756d3f209b"
      },
      "source": [
        "remove_interpuction('ајде, да... дој4 „голем\" демек! ?! Па што правите;.')"
      ],
      "execution_count": null,
      "outputs": [
        {
          "output_type": "execute_result",
          "data": {
            "application/vnd.google.colaboratory.intrinsic": {
              "type": "string"
            },
            "text/plain": [
              "'ајде да дој4 голем демек  Па што правите'"
            ]
          },
          "metadata": {
            "tags": []
          },
          "execution_count": 92
        }
      ]
    },
    {
      "cell_type": "code",
      "metadata": {
        "id": "RduvRA0p8W8Z",
        "colab_type": "code",
        "colab": {
          "base_uri": "https://localhost:8080/",
          "height": 54
        },
        "outputId": "314145dd-6169-4622-ad9f-c4d0800642f0"
      },
      "source": [
        "lista = [['има', 'се', 'може', 'се'],\n",
        "         ['време', 'трае', 'академијата', 'графички', 'дизајн'],\n",
        " ['се', 'одвива', 'наставата', 'академијата', 'графички', 'дизајн'],\n",
        " ['каква', 'опрема', 'е', 'потребна', 'академијата', 'графички', 'дизајн'],\n",
        " ['софтвер', 'користи', 'академијата', 'графички', 'дизајн'],\n",
        " ['се', 'изучува', 'академијата', 'графички', 'дизајн'],\n",
        " ['има', 'слободни', 'места', 'академијата', 'графички', 'дизајн'],\n",
        " ['почнуваат', 'уписите', 'следната', 'академија', 'графички', 'дизајн'],\n",
        " ['постои', 'можност', 'вработување', 'завршувањето', 'академијата']]\n",
        "\n",
        "stop_zborovi = ['се', 'има', 'е']\n",
        "\n",
        "for l in lista:\n",
        "    l = [l.remove(zbor) for zbor in l if zbor in sw]\n",
        "  \n",
        "print(lista)"
      ],
      "execution_count": null,
      "outputs": [
        {
          "output_type": "stream",
          "text": [
            "[['се', 'се'], ['време', 'трае', 'академијата', 'графички', 'дизајн'], ['одвива', 'наставата', 'академијата', 'графички', 'дизајн'], ['каква', 'опрема', 'потребна', 'академијата', 'графички', 'дизајн'], ['софтвер', 'користи', 'академијата', 'графички', 'дизајн'], ['изучува', 'академијата', 'графички', 'дизајн'], ['слободни', 'места', 'академијата', 'графички', 'дизајн'], ['почнуваат', 'уписите', 'следната', 'академија', 'графички', 'дизајн'], ['постои', 'можност', 'вработување', 'завршувањето', 'академијата']]\n"
          ],
          "name": "stdout"
        }
      ]
    },
    {
      "cell_type": "code",
      "metadata": {
        "id": "MyrbjrWb9P9Z",
        "colab_type": "code",
        "colab": {
          "base_uri": "https://localhost:8080/",
          "height": 34
        },
        "outputId": "83d28a5f-c2a5-42a8-b057-141e9f233e97"
      },
      "source": [
        "'се' in sw"
      ],
      "execution_count": null,
      "outputs": [
        {
          "output_type": "execute_result",
          "data": {
            "text/plain": [
              "True"
            ]
          },
          "metadata": {
            "tags": []
          },
          "execution_count": 17
        }
      ]
    },
    {
      "cell_type": "code",
      "metadata": {
        "id": "CK_WdMJMFUME",
        "colab_type": "code",
        "colab": {
          "base_uri": "https://localhost:8080/",
          "height": 202
        },
        "outputId": "bf4ce516-da2b-4d04-a556-003d943dbb1b"
      },
      "source": [
        "stop_zborovi.remove('се', 'има')\n",
        "\n",
        "stop_zborovi"
      ],
      "execution_count": null,
      "outputs": [
        {
          "output_type": "error",
          "ename": "TypeError",
          "evalue": "ignored",
          "traceback": [
            "\u001b[0;31m---------------------------------------------------------------------------\u001b[0m",
            "\u001b[0;31mTypeError\u001b[0m                                 Traceback (most recent call last)",
            "\u001b[0;32m<ipython-input-23-bf8b86073b5d>\u001b[0m in \u001b[0;36m<module>\u001b[0;34m()\u001b[0m\n\u001b[0;32m----> 1\u001b[0;31m \u001b[0mstop_zborovi\u001b[0m\u001b[0;34m.\u001b[0m\u001b[0mremove\u001b[0m\u001b[0;34m(\u001b[0m\u001b[0;34m'се'\u001b[0m\u001b[0;34m,\u001b[0m \u001b[0;34m'има'\u001b[0m\u001b[0;34m)\u001b[0m\u001b[0;34m\u001b[0m\u001b[0;34m\u001b[0m\u001b[0m\n\u001b[0m\u001b[1;32m      2\u001b[0m \u001b[0;34m\u001b[0m\u001b[0m\n\u001b[1;32m      3\u001b[0m \u001b[0mstop_zborovi\u001b[0m\u001b[0;34m\u001b[0m\u001b[0;34m\u001b[0m\u001b[0m\n",
            "\u001b[0;31mTypeError\u001b[0m: remove() takes exactly one argument (2 given)"
          ]
        }
      ]
    },
    {
      "cell_type": "code",
      "metadata": {
        "id": "X2WLLyyPJaHK",
        "colab_type": "code",
        "colab": {}
      },
      "source": [
        ""
      ],
      "execution_count": null,
      "outputs": []
    }
  ]
}