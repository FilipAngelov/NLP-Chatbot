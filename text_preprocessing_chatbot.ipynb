{
 "cells": [
  {
   "cell_type": "code",
   "execution_count": 1,
   "metadata": {},
   "outputs": [
    {
     "name": "stderr",
     "output_type": "stream",
     "text": [
      "[nltk_data] Downloading package punkt to /home/filip/nltk_data...\n",
      "[nltk_data]   Package punkt is already up-to-date!\n"
     ]
    }
   ],
   "source": [
    "#General modules\n",
    "import numpy as np\n",
    "import numpy.linalg as la\n",
    "import pandas as pd\n",
    "import matplotlib.pyplot as plt\n",
    "\n",
    "# Text processing modules\n",
    "import string\n",
    "import re\n",
    "import nltk\n",
    "nltk.download('punkt')\n",
    "\n",
    "# ML modules\n",
    "from sklearn.feature_extraction.text import CountVectorizer, TfidfVectorizer\n",
    "from sklearn.naive_bayes import BernoulliNB\n",
    "from sklearn.svm import LinearSVC\n",
    "from sklearn.linear_model import LogisticRegression\n",
    "from sklearn.metrics import classification_report\n",
    "from sklearn.metrics import confusion_matrix\n",
    "\n",
    "# Preprocessing functions\n",
    "def text_preprocessing(text, stop_words):\n",
    "    \"\"\"\n",
    "    Performs tokenization and simple preprocessing.\n",
    "    Args : \n",
    "        @param text (String): Text that needs preprocessing\n",
    "        @return: text (String) : Preprocessed text\n",
    "    \"\"\"\n",
    "    bad_symbols = re.compile('[/(){}\\[\\]\\|@,;+_#]')\n",
    "    fine_symbols = re.compile('[^0-9абвгдѓежзѕијклљмнњопрстќуфхцчџш ]')\n",
    "    stopwords_set = stop_words\n",
    "    lat_to_cyr = {'kj' : 'ќ', 'gj' : 'ѓ', 'zh' : 'ж', 'ch' : 'ч', 'sh' : 'ш', 'dj' : 'ѓ',\n",
    "              'a' : 'а', 'b' : 'б', 'c' : 'ц', 'd' : 'д', 'e' : 'е', 'f' : 'ф', 'g' : 'г',\n",
    "              'h' : 'х', 'i' : 'и', 'j' : 'ј', 'k' : 'к', 'l' : 'л', 'm' : 'м', 'n' : 'н', \n",
    "              'o' : 'о', 'p' : 'п', 'q' : 'љ', 'r' : 'р', 's' : 'с', 't' : 'т', 'u' : 'у',\n",
    "              'v' : 'в', 'w' : 'њ', 'x' : 'џ', 'y' : 'ѕ',  'z' : 'з'\n",
    "             }\n",
    "    \n",
    "    text = text.lower()\n",
    "    \n",
    "    for item, value in lat_to_cyr.items():\n",
    "        text = re.sub(item, value, text)\n",
    "    \n",
    "    text = bad_symbols.sub(' ', text)\n",
    "\n",
    "    text = fine_symbols.sub('', text)\n",
    "    \n",
    "    text = ' '.join([x for x in text.split() if x and x not in stopwords_set])\n",
    "\n",
    "    return text.strip()\n",
    "\n",
    "\n",
    "\n",
    "# Load the dataset\n",
    "def load_dataset(source):\n",
    "    # Loading the data from the source\n",
    "    data = pd.read_csv(source)\n",
    "\n",
    "    # Spliting into questions, answers and categories\n",
    "    questions = data.iloc[:, 0]\n",
    "    answers = data.iloc[:, 1]\n",
    "    categories = data.iloc[:, 2]\n",
    "    category_codes = data.iloc[:, 3]\n",
    "    \n",
    "    return questions, answers, categories, category_codes\n",
    "\n",
    "\n",
    "# Load the stop words\n",
    "def load_stop_words(source):\n",
    "    file = open(source, 'r')\n",
    "    sw=file.read().split()\n",
    "    file.close()\n",
    "    return sw"
   ]
  },
  {
   "cell_type": "code",
   "execution_count": 2,
   "metadata": {},
   "outputs": [],
   "source": [
    "# Loading the database of questions and building the corpus\n",
    "qus, ans, cat, cat_codes = load_dataset('dataset_brainster.csv')\n",
    "sw = load_stop_words('stop_words.txt')\n",
    "\n",
    "corpus = [text_preprocessing(q, sw) for q in qus]"
   ]
  },
  {
   "cell_type": "code",
   "execution_count": 3,
   "metadata": {},
   "outputs": [
    {
     "data": {
      "text/plain": [
       "['сео',\n",
       " 'гроњтх хацкинг',\n",
       " 'сторѕтеллинг',\n",
       " 'цопѕњритинг',\n",
       " 'леад генератион',\n",
       " 'време трае академијата графички дизајн',\n",
       " 'трае академијата графички дизајн',\n",
       " 'времетрање академијата графички дизајн',\n",
       " 'одвива наставата академијата графички дизајн',\n",
       " 'наставата академијата графички дизајн одвива живо онлајн']"
      ]
     },
     "execution_count": 3,
     "metadata": {},
     "output_type": "execute_result"
    }
   ],
   "source": [
    "corpus[50:60]"
   ]
  },
  {
   "cell_type": "code",
   "execution_count": 4,
   "metadata": {},
   "outputs": [],
   "source": [
    "# Builting the Count-Vectorized features\n",
    "count_vectorizer = CountVectorizer(strip_accents='unicode') #probaj bez max_features\n",
    "count_vectorizer.fit(corpus)\n",
    "corpus_vec = count_vectorizer.transform(corpus)\n",
    "\n",
    "corpus_vec_df = pd.DataFrame(data = corpus_vec.todense(), columns = count_vectorizer.get_feature_names())"
   ]
  },
  {
   "cell_type": "code",
   "execution_count": 5,
   "metadata": {},
   "outputs": [
    {
     "data": {
      "text/html": [
       "<div>\n",
       "<style scoped>\n",
       "    .dataframe tbody tr th:only-of-type {\n",
       "        vertical-align: middle;\n",
       "    }\n",
       "\n",
       "    .dataframe tbody tr th {\n",
       "        vertical-align: top;\n",
       "    }\n",
       "\n",
       "    .dataframe thead th {\n",
       "        text-align: right;\n",
       "    }\n",
       "</style>\n",
       "<table border=\"1\" class=\"dataframe\">\n",
       "  <thead>\n",
       "    <tr style=\"text-align: right;\">\n",
       "      <th></th>\n",
       "      <th>15</th>\n",
       "      <th>1630</th>\n",
       "      <th>24</th>\n",
       "      <th>автоматско</th>\n",
       "      <th>адс</th>\n",
       "      <th>академии</th>\n",
       "      <th>академиите</th>\n",
       "      <th>академија</th>\n",
       "      <th>академијата</th>\n",
       "      <th>акредитиран</th>\n",
       "      <th>...</th>\n",
       "      <th>чини</th>\n",
       "      <th>школувањето</th>\n",
       "      <th>јава</th>\n",
       "      <th>јазик</th>\n",
       "      <th>јазици</th>\n",
       "      <th>јак</th>\n",
       "      <th>јљуерѕ</th>\n",
       "      <th>ља</th>\n",
       "      <th>њебдривер</th>\n",
       "      <th>њебсите</th>\n",
       "    </tr>\n",
       "  </thead>\n",
       "  <tbody>\n",
       "    <tr>\n",
       "      <th>0</th>\n",
       "      <td>0</td>\n",
       "      <td>0</td>\n",
       "      <td>0</td>\n",
       "      <td>0</td>\n",
       "      <td>0</td>\n",
       "      <td>0</td>\n",
       "      <td>0</td>\n",
       "      <td>0</td>\n",
       "      <td>1</td>\n",
       "      <td>0</td>\n",
       "      <td>...</td>\n",
       "      <td>0</td>\n",
       "      <td>0</td>\n",
       "      <td>0</td>\n",
       "      <td>0</td>\n",
       "      <td>0</td>\n",
       "      <td>0</td>\n",
       "      <td>0</td>\n",
       "      <td>0</td>\n",
       "      <td>0</td>\n",
       "      <td>0</td>\n",
       "    </tr>\n",
       "    <tr>\n",
       "      <th>1</th>\n",
       "      <td>0</td>\n",
       "      <td>0</td>\n",
       "      <td>0</td>\n",
       "      <td>0</td>\n",
       "      <td>0</td>\n",
       "      <td>0</td>\n",
       "      <td>0</td>\n",
       "      <td>0</td>\n",
       "      <td>1</td>\n",
       "      <td>0</td>\n",
       "      <td>...</td>\n",
       "      <td>0</td>\n",
       "      <td>0</td>\n",
       "      <td>0</td>\n",
       "      <td>0</td>\n",
       "      <td>0</td>\n",
       "      <td>0</td>\n",
       "      <td>0</td>\n",
       "      <td>0</td>\n",
       "      <td>0</td>\n",
       "      <td>0</td>\n",
       "    </tr>\n",
       "    <tr>\n",
       "      <th>2</th>\n",
       "      <td>0</td>\n",
       "      <td>0</td>\n",
       "      <td>0</td>\n",
       "      <td>0</td>\n",
       "      <td>0</td>\n",
       "      <td>0</td>\n",
       "      <td>0</td>\n",
       "      <td>0</td>\n",
       "      <td>1</td>\n",
       "      <td>0</td>\n",
       "      <td>...</td>\n",
       "      <td>0</td>\n",
       "      <td>0</td>\n",
       "      <td>0</td>\n",
       "      <td>0</td>\n",
       "      <td>0</td>\n",
       "      <td>0</td>\n",
       "      <td>0</td>\n",
       "      <td>0</td>\n",
       "      <td>0</td>\n",
       "      <td>0</td>\n",
       "    </tr>\n",
       "    <tr>\n",
       "      <th>3</th>\n",
       "      <td>0</td>\n",
       "      <td>0</td>\n",
       "      <td>0</td>\n",
       "      <td>0</td>\n",
       "      <td>0</td>\n",
       "      <td>0</td>\n",
       "      <td>0</td>\n",
       "      <td>0</td>\n",
       "      <td>0</td>\n",
       "      <td>0</td>\n",
       "      <td>...</td>\n",
       "      <td>0</td>\n",
       "      <td>0</td>\n",
       "      <td>0</td>\n",
       "      <td>0</td>\n",
       "      <td>0</td>\n",
       "      <td>0</td>\n",
       "      <td>0</td>\n",
       "      <td>0</td>\n",
       "      <td>0</td>\n",
       "      <td>0</td>\n",
       "    </tr>\n",
       "    <tr>\n",
       "      <th>4</th>\n",
       "      <td>0</td>\n",
       "      <td>0</td>\n",
       "      <td>0</td>\n",
       "      <td>0</td>\n",
       "      <td>0</td>\n",
       "      <td>0</td>\n",
       "      <td>0</td>\n",
       "      <td>0</td>\n",
       "      <td>1</td>\n",
       "      <td>0</td>\n",
       "      <td>...</td>\n",
       "      <td>0</td>\n",
       "      <td>0</td>\n",
       "      <td>0</td>\n",
       "      <td>0</td>\n",
       "      <td>0</td>\n",
       "      <td>0</td>\n",
       "      <td>0</td>\n",
       "      <td>0</td>\n",
       "      <td>0</td>\n",
       "      <td>0</td>\n",
       "    </tr>\n",
       "  </tbody>\n",
       "</table>\n",
       "<p>5 rows × 499 columns</p>\n",
       "</div>"
      ],
      "text/plain": [
       "   15  1630  24  автоматско  адс  академии  академиите  академија  \\\n",
       "0   0     0   0           0    0         0           0          0   \n",
       "1   0     0   0           0    0         0           0          0   \n",
       "2   0     0   0           0    0         0           0          0   \n",
       "3   0     0   0           0    0         0           0          0   \n",
       "4   0     0   0           0    0         0           0          0   \n",
       "\n",
       "   академијата  акредитиран  ...  чини  школувањето  јава  јазик  јазици  јак  \\\n",
       "0            1            0  ...     0            0     0      0       0    0   \n",
       "1            1            0  ...     0            0     0      0       0    0   \n",
       "2            1            0  ...     0            0     0      0       0    0   \n",
       "3            0            0  ...     0            0     0      0       0    0   \n",
       "4            1            0  ...     0            0     0      0       0    0   \n",
       "\n",
       "   јљуерѕ  ља  њебдривер  њебсите  \n",
       "0       0   0          0        0  \n",
       "1       0   0          0        0  \n",
       "2       0   0          0        0  \n",
       "3       0   0          0        0  \n",
       "4       0   0          0        0  \n",
       "\n",
       "[5 rows x 499 columns]"
      ]
     },
     "execution_count": 5,
     "metadata": {},
     "output_type": "execute_result"
    }
   ],
   "source": [
    "corpus_vec_df.head()"
   ]
  },
  {
   "cell_type": "code",
   "execution_count": 6,
   "metadata": {},
   "outputs": [],
   "source": [
    "# Building the TF-IDF Vectorized Features\n",
    "tfidf_vectorizer = TfidfVectorizer(strip_accents='unicode')\n",
    "tfidf_vectorizer.fit(corpus)\n",
    "corpus_tfidif = tfidf_vectorizer.transform(corpus)\n",
    "\n",
    "corpus_tfidif_df = pd.DataFrame(data = corpus_tfidif.todense(), columns = tfidf_vectorizer.get_feature_names())"
   ]
  },
  {
   "cell_type": "code",
   "execution_count": 7,
   "metadata": {},
   "outputs": [
    {
     "data": {
      "text/plain": [
       "(523, 499)"
      ]
     },
     "execution_count": 7,
     "metadata": {},
     "output_type": "execute_result"
    }
   ],
   "source": [
    "corpus_tfidif_df.shape"
   ]
  },
  {
   "cell_type": "markdown",
   "metadata": {},
   "source": [
    "## Testing CountVectorizer"
   ]
  },
  {
   "cell_type": "code",
   "execution_count": 88,
   "metadata": {},
   "outputs": [],
   "source": [
    "# Defining Cosine Similarity Functiom\n",
    "def cos_sim(input, corpus): \n",
    "    cosine_function = lambda a, b : np.inner(a, b)/(np.linalg.norm(a)*np.linalg.norm(b))\n",
    "    distances = []\n",
    "    for question in corpus:\n",
    "        distances.append(cosine_function(input.todense(), question.todense()))\n",
    "    max_sim = max(distances)\n",
    "    max_arg = np.argmax(distances)\n",
    "    return max_arg, max_sim, distances"
   ]
  },
  {
   "cell_type": "code",
   "execution_count": 89,
   "metadata": {},
   "outputs": [],
   "source": [
    "# Defining Pearson Similarity Function\n",
    "def pearson_sim(input, corpus): \n",
    "    distances = []\n",
    "    for question in corpus:\n",
    "        distances.append(np.corrcoef(input.todense(), question.todense())[0, 1])\n",
    "    max_sim = max(distances)\n",
    "    max_arg = np.argmax(distances)\n",
    "    return max_arg, max_sim, distances"
   ]
  },
  {
   "cell_type": "code",
   "execution_count": 87,
   "metadata": {},
   "outputs": [],
   "source": [
    "tq = 'дали нудите курсеви за програмирање?'\n",
    "tq = text_preprocessing(tq, sw)\n",
    "tq = count_vectorizer.transform([tq])"
   ]
  },
  {
   "cell_type": "code",
   "execution_count": 90,
   "metadata": {},
   "outputs": [
    {
     "name": "stdout",
     "output_type": "stream",
     "text": [
      "89\n",
      "[[0.57735027]]\n",
      "Најблиску до прашањето: Дали нудите курсеви за графички дизајн?\n",
      "Одговор:  Во моментов курсевите не се одржуваат.\n"
     ]
    }
   ],
   "source": [
    "# Getting the closest cosine-score and responding\n",
    "max_arg, max_sim, distances = cos_sim(tq, corpus_vec)\n",
    "\n",
    "print(max_arg)\n",
    "\n",
    "print(max_sim)\n",
    "\n",
    "print('Најблиску до прашањето:', qus[max_arg])\n",
    "print('Одговор: ', ans[max_arg])"
   ]
  },
  {
   "cell_type": "code",
   "execution_count": 91,
   "metadata": {},
   "outputs": [
    {
     "name": "stdout",
     "output_type": "stream",
     "text": [
      "89\n",
      "0.5744375935906015\n",
      "Најблиску до прашањето: Дали нудите курсеви за графички дизајн?\n",
      "Одговор:  Во моментов курсевите не се одржуваат.\n"
     ]
    }
   ],
   "source": [
    "# Getting the closest pearson-score and responding\n",
    "max_arg, max_sim, distances = pearson_sim(tq, corpus_vec)\n",
    "\n",
    "print(max_arg)\n",
    "\n",
    "print(max_sim)\n",
    "\n",
    "print('Најблиску до прашањето:', qus[max_arg])\n",
    "print('Одговор: ', ans[max_arg])"
   ]
  },
  {
   "cell_type": "markdown",
   "metadata": {},
   "source": [
    "## Testing TF-IDF Vectorizer"
   ]
  },
  {
   "cell_type": "code",
   "execution_count": 74,
   "metadata": {},
   "outputs": [],
   "source": [
    "tq = 'колку кошта академијата за дата сциенце ако се плати на рати?'\n",
    "tq = text_preprocessing(tq, sw)\n",
    "tq = count_vectorizer.transform([tq])"
   ]
  },
  {
   "cell_type": "code",
   "execution_count": 85,
   "metadata": {},
   "outputs": [
    {
     "name": "stdout",
     "output_type": "stream",
     "text": [
      "365\n",
      "[[0.63245553]]\n",
      "Најблиску до прашањето: Што е Data Science?\n",
      "Одговор:  Data Science е интердисциплинарно поле во кое се применуваат научни методи, процеси, алгоритми и системи за извлекување на корисно знаење и информации од структуирани и неструктуирани податоци.  Data Science  подразбира примена на знаење од областса на Machine learning, Python, Big Data, Business Inteligence, SQL, математика и статистика.\n"
     ]
    }
   ],
   "source": [
    "# Getting the closest cosine-score and responding\n",
    "max_arg, max_sim, distances = cos_sim(tq, corpus_tfidif)\n",
    "\n",
    "print(max_arg)\n",
    "\n",
    "print(max_sim)\n",
    "\n",
    "print('Најблиску до прашањето:', qus[max_arg])\n",
    "print('Одговор: ', ans[max_arg])"
   ]
  },
  {
   "cell_type": "code",
   "execution_count": 86,
   "metadata": {},
   "outputs": [
    {
     "name": "stdout",
     "output_type": "stream",
     "text": [
      "365\n",
      "0.6305438232815118\n",
      "Најблиску до прашањето: Што е Data Science?\n",
      "Одговор:  Data Science е интердисциплинарно поле во кое се применуваат научни методи, процеси, алгоритми и системи за извлекување на корисно знаење и информации од структуирани и неструктуирани податоци.  Data Science  подразбира примена на знаење од областса на Machine learning, Python, Big Data, Business Inteligence, SQL, математика и статистика.\n"
     ]
    }
   ],
   "source": [
    "# Getting the closest pearson-score and responding\n",
    "max_arg, max_sim, distances = pearson_sim(tq, corpus_tfidif)\n",
    "\n",
    "print(max_arg)\n",
    "\n",
    "print(max_sim)\n",
    "\n",
    "print('Најблиску до прашањето:', qus[max_arg])\n",
    "print('Одговор: ', ans[max_arg])"
   ]
  },
  {
   "cell_type": "code",
   "execution_count": null,
   "metadata": {},
   "outputs": [],
   "source": []
  }
 ],
 "metadata": {
  "kernelspec": {
   "display_name": "Python 3",
   "language": "python",
   "name": "python3"
  },
  "language_info": {
   "codemirror_mode": {
    "name": "ipython",
    "version": 3
   },
   "file_extension": ".py",
   "mimetype": "text/x-python",
   "name": "python",
   "nbconvert_exporter": "python",
   "pygments_lexer": "ipython3",
   "version": "3.7.6"
  }
 },
 "nbformat": 4,
 "nbformat_minor": 4
}
