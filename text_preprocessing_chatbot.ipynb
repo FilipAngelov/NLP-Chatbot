{
 "cells": [
  {
   "cell_type": "code",
   "execution_count": 1,
   "metadata": {},
   "outputs": [
    {
     "name": "stderr",
     "output_type": "stream",
     "text": [
      "[nltk_data] Downloading package punkt to /home/filip/nltk_data...\n",
      "[nltk_data]   Package punkt is already up-to-date!\n"
     ]
    }
   ],
   "source": [
    "#General modules\n",
    "import numpy as np\n",
    "import numpy.linalg as la\n",
    "import pandas as pd\n",
    "import matplotlib.pyplot as plt\n",
    "import seaborn as sns\n",
    "\n",
    "# Text processing modules\n",
    "import string\n",
    "import re\n",
    "import nltk\n",
    "nltk.download('punkt')\n",
    "\n",
    "# ML modules\n",
    "from sklearn.feature_extraction.text import CountVectorizer, TfidfVectorizer\n",
    "from sklearn.naive_bayes import BernoulliNB\n",
    "from sklearn.svm import LinearSVC\n",
    "from sklearn.linear_model import LogisticRegression\n",
    "from sklearn.metrics import classification_report\n",
    "from sklearn.metrics import confusion_matrix\n",
    "\n",
    "# Preprocessing functions\n",
    "def text_preprocessing(text, stop_words):\n",
    "    \"\"\"\n",
    "    Performs tokenization and simple preprocessing.\n",
    "    Args : \n",
    "        @param text (String): Text that needs preprocessing\n",
    "        @return: text (String) : Preprocessed text\n",
    "    \"\"\"\n",
    "    bad_symbols = re.compile('[/(){}\\[\\]\\|@,;+_#]')\n",
    "    fine_symbols = re.compile('[^0-9абвгдѓежзѕијклљмнњопрстќуфхцчџш ]')\n",
    "    stopwords_set = stop_words\n",
    "    lat_to_cyr = {'kj' : 'ќ', 'gj' : 'ѓ', 'zh' : 'ж', 'ch' : 'ч', 'sh' : 'ш', 'dj' : 'ѓ',\n",
    "              'a' : 'а', 'b' : 'б', 'c' : 'ц', 'd' : 'д', 'e' : 'е', 'f' : 'ф', 'g' : 'г',\n",
    "              'h' : 'х', 'i' : 'и', 'j' : 'ј', 'k' : 'к', 'l' : 'л', 'm' : 'м', 'n' : 'н', \n",
    "              'o' : 'о', 'p' : 'п', 'q' : 'љ', 'r' : 'р', 's' : 'с', 't' : 'т', 'u' : 'у',\n",
    "              'v' : 'в', 'w' : 'њ', 'x' : 'џ', 'y' : 'ѕ',  'z' : 'з'\n",
    "             }\n",
    "    \n",
    "    text = text.lower()\n",
    "    \n",
    "    for item, value in lat_to_cyr.items():\n",
    "        text = re.sub(item, value, text)\n",
    "    \n",
    "    text = bad_symbols.sub(' ', text)\n",
    "\n",
    "    text = fine_symbols.sub('', text)\n",
    "    \n",
    "    text = ' '.join([x for x in text.split() if x and x not in stopwords_set])\n",
    "\n",
    "    return text.strip()\n",
    "\n",
    "\n",
    "\n",
    "# Load the dataset\n",
    "def load_dataset(source):\n",
    "    # Loading the data from the source\n",
    "    data = pd.read_csv(source)\n",
    "\n",
    "    # Spliting into questions, answers and categories\n",
    "    questions = data.iloc[:, 0]\n",
    "    answers = data.iloc[:, 1]\n",
    "    categories = data.iloc[:, 2]\n",
    "    category_codes = data.iloc[:, 3]\n",
    "    \n",
    "    return questions, answers, categories, category_codes\n",
    "\n",
    "\n",
    "# Load the stop words\n",
    "def load_stop_words(source):\n",
    "    file = open(source, 'r')\n",
    "    sw=file.read().split()\n",
    "    file.close()\n",
    "    return sw"
   ]
  },
  {
   "cell_type": "code",
   "execution_count": 2,
   "metadata": {},
   "outputs": [],
   "source": [
    "# Loading the database of questions and building the corpus\n",
    "qus, ans, cat, cat_codes = load_dataset('dataset_brainster.csv')\n",
    "sw = load_stop_words('stop_words.txt')\n",
    "\n",
    "corpus = [text_preprocessing(q, sw) for q in qus]"
   ]
  },
  {
   "cell_type": "code",
   "execution_count": 3,
   "metadata": {},
   "outputs": [
    {
     "data": {
      "text/plain": [
       "523"
      ]
     },
     "execution_count": 3,
     "metadata": {},
     "output_type": "execute_result"
    }
   ],
   "source": [
    "len(cat_codes)"
   ]
  },
  {
   "cell_type": "code",
   "execution_count": 4,
   "metadata": {},
   "outputs": [],
   "source": [
    "# Builting the Count-Vectorized features\n",
    "count_vectorizer = CountVectorizer(strip_accents='unicode') #probaj bez max_features\n",
    "count_vectorizer.fit(corpus)\n",
    "corpus_vec = count_vectorizer.transform(corpus)\n",
    "\n",
    "corpus_vec_df = pd.DataFrame(data = corpus_vec.todense(), columns = count_vectorizer.get_feature_names())"
   ]
  },
  {
   "cell_type": "code",
   "execution_count": 5,
   "metadata": {},
   "outputs": [
    {
     "data": {
      "text/plain": [
       "(523, 499)"
      ]
     },
     "execution_count": 5,
     "metadata": {},
     "output_type": "execute_result"
    }
   ],
   "source": [
    "corpus_vec_df.shape"
   ]
  },
  {
   "cell_type": "code",
   "execution_count": 6,
   "metadata": {},
   "outputs": [],
   "source": [
    "# Building the TF-IDF Vectorized Features\n",
    "tfidf_vectorizer = TfidfVectorizer(strip_accents='unicode')\n",
    "tfidf_vectorizer.fit(corpus)\n",
    "corpus_tfidif = tfidf_vectorizer.transform(corpus)\n",
    "\n",
    "corpus_tfidif_df = pd.DataFrame(data = corpus_tfidif.todense(), columns = tfidf_vectorizer.get_feature_names())"
   ]
  },
  {
   "cell_type": "code",
   "execution_count": 7,
   "metadata": {},
   "outputs": [
    {
     "data": {
      "text/plain": [
       "(523, 499)"
      ]
     },
     "execution_count": 7,
     "metadata": {},
     "output_type": "execute_result"
    }
   ],
   "source": [
    "corpus_tfidif_df.shape"
   ]
  },
  {
   "cell_type": "markdown",
   "metadata": {},
   "source": [
    "## Testing CountVectorizer"
   ]
  },
  {
   "cell_type": "code",
   "execution_count": 8,
   "metadata": {},
   "outputs": [],
   "source": [
    "# Defining Cosine Similarity Functiom\n",
    "def cos_sim(new_input, corpus): \n",
    "    cosine_function = lambda a, b : np.inner(a, b)/(np.linalg.norm(a)*np.linalg.norm(b))\n",
    "    distances = []\n",
    "    for question in corpus:\n",
    "        distances.append(cosine_function(new_input.toarray(), question.toarray()))\n",
    "    max_sim = max(max(max(distances)))\n",
    "    max_arg = np.argmax(distances)\n",
    "    return max_arg, max_sim, distances"
   ]
  },
  {
   "cell_type": "code",
   "execution_count": 9,
   "metadata": {},
   "outputs": [],
   "source": [
    "# Defining Pearson Similarity Function\n",
    "def pearson_sim(new_input, corpus): \n",
    "    distances = []\n",
    "    for question in corpus:\n",
    "        distances.append(np.corrcoef(new_input.todense(), question.todense())[0, 1])\n",
    "    max_sim = max(distances)\n",
    "    max_arg = np.argmax(distances)\n",
    "    return max_arg, max_sim, distances"
   ]
  },
  {
   "cell_type": "code",
   "execution_count": 10,
   "metadata": {},
   "outputs": [],
   "source": [
    "# Defining Dice Similarity Function\n",
    "def dice_sim(new_input, corpus):\n",
    "    new_input = new_input.toarray().flatten().astype(bool)\n",
    "    distances = []\n",
    "    for question in corpus:\n",
    "        question = question.toarray().flatten().astype(bool)\n",
    "        distances.append(2.0*np.logical_and(new_input, question).sum()/(new_input.sum() + question.sum()))\n",
    "    max_sim = max(distances)\n",
    "    max_arg = np.argmax(distances)\n",
    "    return max_arg, max_sim, distances"
   ]
  },
  {
   "cell_type": "code",
   "execution_count": 11,
   "metadata": {},
   "outputs": [],
   "source": [
    "tq = 'се прифаќа ли ваучер од владата'\n",
    "tq = text_preprocessing(tq, sw)\n",
    "tq = count_vectorizer.transform([tq])"
   ]
  },
  {
   "cell_type": "code",
   "execution_count": 12,
   "metadata": {},
   "outputs": [
    {
     "name": "stdout",
     "output_type": "stream",
     "text": [
      "376\n",
      "0.4999999999999999\n",
      "Најблиску до прашањето: како да аплицирам за ваучер\n",
      "Одговор:  Најпрво избери ја обуката за која сакаш да го искористиш ваучерот, резервирај го твоето место на истата, а нашиот тим ќе ти помогне во целиот процес на апликација за ваучерот. Дополнително може да се информираш на следниот лник https://vauceri.brainster.co/upatstvo/\n"
     ]
    }
   ],
   "source": [
    "# Getting the closest cosine-score and responding\n",
    "max_arg, max_sim, distances = cos_sim(tq, corpus_vec)\n",
    "\n",
    "print(max_arg)\n",
    "\n",
    "print(max_sim)\n",
    "\n",
    "print('Најблиску до прашањето:', qus[max_arg])\n",
    "print('Одговор: ', ans[max_arg])"
   ]
  },
  {
   "cell_type": "code",
   "execution_count": 13,
   "metadata": {},
   "outputs": [
    {
     "name": "stdout",
     "output_type": "stream",
     "text": [
      "376\n",
      "0.49798792756539395\n",
      "Најблиску до прашањето: како да аплицирам за ваучер\n",
      "Одговор:  Најпрво избери ја обуката за која сакаш да го искористиш ваучерот, резервирај го твоето место на истата, а нашиот тим ќе ти помогне во целиот процес на апликација за ваучерот. Дополнително може да се информираш на следниот лник https://vauceri.brainster.co/upatstvo/\n"
     ]
    }
   ],
   "source": [
    "# Getting the closest pearson-score and responding\n",
    "max_arg, max_sim, distances = pearson_sim(tq, corpus_vec)\n",
    "\n",
    "print(max_arg)\n",
    "\n",
    "print(max_sim)\n",
    "\n",
    "print('Најблиску до прашањето:', qus[max_arg])\n",
    "print('Одговор: ', ans[max_arg])"
   ]
  },
  {
   "cell_type": "code",
   "execution_count": 14,
   "metadata": {},
   "outputs": [
    {
     "name": "stdout",
     "output_type": "stream",
     "text": [
      "376\n",
      "0.5\n",
      "Најблиску до прашањето: како да аплицирам за ваучер\n",
      "Одговор:  Најпрво избери ја обуката за која сакаш да го искористиш ваучерот, резервирај го твоето место на истата, а нашиот тим ќе ти помогне во целиот процес на апликација за ваучерот. Дополнително може да се информираш на следниот лник https://vauceri.brainster.co/upatstvo/\n"
     ]
    }
   ],
   "source": [
    "# Getting the closest dice-score and responding\n",
    "max_arg, max_sim, distances = dice_sim(tq, corpus_vec)\n",
    "\n",
    "print(max_arg)\n",
    "\n",
    "print(max_sim)\n",
    "\n",
    "print('Најблиску до прашањето:', qus[max_arg])\n",
    "print('Одговор: ', ans[max_arg])"
   ]
  },
  {
   "cell_type": "markdown",
   "metadata": {},
   "source": [
    "## Testing TF-IDF Vectorizer"
   ]
  },
  {
   "cell_type": "code",
   "execution_count": 15,
   "metadata": {},
   "outputs": [],
   "source": [
    "tq = 'се прифаќа ли ваучер од владата'\n",
    "tq = text_preprocessing(tq, sw)\n",
    "tq = tfidf_vectorizer.transform([tq])"
   ]
  },
  {
   "cell_type": "code",
   "execution_count": 16,
   "metadata": {},
   "outputs": [
    {
     "name": "stdout",
     "output_type": "stream",
     "text": [
      "376\n",
      "0.6176566731622903\n",
      "Најблиску до прашањето: како да аплицирам за ваучер\n",
      "Одговор:  Најпрво избери ја обуката за која сакаш да го искористиш ваучерот, резервирај го твоето место на истата, а нашиот тим ќе ти помогне во целиот процес на апликација за ваучерот. Дополнително може да се информираш на следниот лник https://vauceri.brainster.co/upatstvo/\n"
     ]
    }
   ],
   "source": [
    "# Getting the closest cosine-score and responding\n",
    "max_arg, max_sim, distances = cos_sim(tq, corpus_tfidif)\n",
    "\n",
    "print(max_arg)\n",
    "\n",
    "print(max_sim)\n",
    "\n",
    "print('Најблиску до прашањето:', qus[max_arg])\n",
    "print('Одговор: ', ans[max_arg])"
   ]
  },
  {
   "cell_type": "code",
   "execution_count": 17,
   "metadata": {},
   "outputs": [
    {
     "name": "stdout",
     "output_type": "stream",
     "text": [
      "376\n",
      "0.6161442349675342\n",
      "Најблиску до прашањето: како да аплицирам за ваучер\n",
      "Одговор:  Најпрво избери ја обуката за која сакаш да го искористиш ваучерот, резервирај го твоето место на истата, а нашиот тим ќе ти помогне во целиот процес на апликација за ваучерот. Дополнително може да се информираш на следниот лник https://vauceri.brainster.co/upatstvo/\n"
     ]
    }
   ],
   "source": [
    "# Getting the closest pearson-score and responding\n",
    "max_arg, max_sim, distances = pearson_sim(tq, corpus_tfidif)\n",
    "\n",
    "print(max_arg)\n",
    "\n",
    "print(max_sim)\n",
    "\n",
    "print('Најблиску до прашањето:', qus[max_arg])\n",
    "print('Одговор: ', ans[max_arg])"
   ]
  },
  {
   "cell_type": "code",
   "execution_count": 18,
   "metadata": {},
   "outputs": [
    {
     "name": "stdout",
     "output_type": "stream",
     "text": [
      "376\n",
      "0.5\n",
      "Најблиску до прашањето: како да аплицирам за ваучер\n",
      "Одговор:  Најпрво избери ја обуката за која сакаш да го искористиш ваучерот, резервирај го твоето место на истата, а нашиот тим ќе ти помогне во целиот процес на апликација за ваучерот. Дополнително може да се информираш на следниот лник https://vauceri.brainster.co/upatstvo/\n"
     ]
    }
   ],
   "source": [
    "# Getting the closest dice-score and responding\n",
    "max_arg, max_sim, distances = dice_sim(tq, corpus_tfidif)\n",
    "\n",
    "print(max_arg)\n",
    "\n",
    "print(max_sim)\n",
    "\n",
    "print('Најблиску до прашањето:', qus[max_arg])\n",
    "print('Одговор: ', ans[max_arg])"
   ]
  },
  {
   "cell_type": "markdown",
   "metadata": {},
   "source": [
    "## Building the WordEmbeddings"
   ]
  },
  {
   "cell_type": "code",
   "execution_count": 19,
   "metadata": {},
   "outputs": [],
   "source": [
    "# Loading modules\n",
    "from keras.layers.embeddings import Embedding\n",
    "from keras.preprocessing.text import Tokenizer"
   ]
  },
  {
   "cell_type": "markdown",
   "metadata": {},
   "source": [
    "#Building the embedding corpus\n",
    "corpus_embedding = [question.split() for question in corpus]\n",
    "\n",
    "corpus_embedding[:2]"
   ]
  },
  {
   "cell_type": "code",
   "execution_count": 20,
   "metadata": {},
   "outputs": [
    {
     "data": {
      "text/plain": [
       "[36, 42, 1, 12, 11]"
      ]
     },
     "execution_count": 20,
     "metadata": {},
     "output_type": "execute_result"
    }
   ],
   "source": [
    "word_to_int = Tokenizer(\n",
    "    num_words=None, filters='!\"#$%&()*+,-./:;<=>?@[\\\\]^_`{|}~\\t\\n„“', lower=True,\n",
    "    split=' ', char_level=False, oov_token=None, document_count=0)\n",
    "\n",
    "\n",
    "text_int = word_to_int.fit_on_texts(corpus)\n",
    "\n",
    "text_int = word_to_int.texts_to_sequences(corpus)\n",
    "text_int[0]"
   ]
  },
  {
   "cell_type": "code",
   "execution_count": 21,
   "metadata": {},
   "outputs": [
    {
     "data": {
      "text/plain": [
       "'време трае академијата дигитален маркетинг'"
      ]
     },
     "execution_count": 21,
     "metadata": {},
     "output_type": "execute_result"
    }
   ],
   "source": [
    "corpus[0]"
   ]
  },
  {
   "cell_type": "code",
   "execution_count": 22,
   "metadata": {},
   "outputs": [
    {
     "data": {
      "text/plain": [
       "500"
      ]
     },
     "execution_count": 22,
     "metadata": {},
     "output_type": "execute_result"
    }
   ],
   "source": [
    "max(max(text_int))"
   ]
  },
  {
   "cell_type": "code",
   "execution_count": 23,
   "metadata": {},
   "outputs": [],
   "source": [
    "# Loading word embeddings for Macedonian\n",
    "from bpemb import BPEmb\n",
    "bpemb_mk = BPEmb(lang=\"mk\", dim=300)"
   ]
  },
  {
   "cell_type": "code",
   "execution_count": 24,
   "metadata": {},
   "outputs": [],
   "source": [
    "# Embedding our corpus\n",
    "embedded_corpus = []\n",
    "for question in corpus:\n",
    "    embedded_corpus.append(bpemb_mk.embed(question).mean(axis = 0))\n",
    "\n",
    "embedded_corpus = np.array(embedded_corpus)"
   ]
  },
  {
   "cell_type": "code",
   "execution_count": 41,
   "metadata": {},
   "outputs": [
    {
     "data": {
      "text/plain": [
       "'време трае академијата дигитален маркетинг'"
      ]
     },
     "execution_count": 41,
     "metadata": {},
     "output_type": "execute_result"
    }
   ],
   "source": [
    "corpus[0]"
   ]
  },
  {
   "cell_type": "code",
   "execution_count": 25,
   "metadata": {},
   "outputs": [],
   "source": [
    "# Preparing the tagtets (category codes)\n",
    "cat_codes = np.array(cat_codes)"
   ]
  },
  {
   "cell_type": "code",
   "execution_count": 26,
   "metadata": {},
   "outputs": [],
   "source": [
    "# Implementing classifiers\n",
    "# RF, NaiveBayes, NearNeigh, SVC\n",
    "\n",
    "from sklearn.ensemble import RandomForestClassifier, GradientBoostingClassifier, AdaBoostClassifier\n",
    "from sklearn.naive_bayes import BernoulliNB\n",
    "from sklearn.neighbors import KNeighborsClassifier\n",
    "from sklearn.svm import LinearSVC, SVC\n",
    "\n",
    "from sklearn.model_selection import train_test_split, cross_val_score"
   ]
  },
  {
   "cell_type": "code",
   "execution_count": 27,
   "metadata": {},
   "outputs": [],
   "source": [
    "def plot_confusion_matrix(y_test, y_pred, axis_labels):\n",
    "    plt.figure()\n",
    "    ax=sns.heatmap(confusion_matrix(y_test, y_pred),\n",
    "                   annot = True,\n",
    "                   cmap='Greens')\n",
    "    ax.set(xlabel='True', ylabel='Predicted')\n",
    "    ax.set_xticklabels(axis_labels, rotation=30)\n",
    "    ax.set_yticklabels(axis_labels, rotation=0)\n",
    "    plt.show()"
   ]
  },
  {
   "cell_type": "code",
   "execution_count": 28,
   "metadata": {},
   "outputs": [],
   "source": [
    "# Splitting the data into train and test:\n",
    "\n",
    "X_train, X_test, y_train, y_test = train_test_split(embedded_corpus, cat_codes,\n",
    "                                                    train_size=0.8,\n",
    "                                                    random_state=10)\n",
    "\n",
    "cat_labels = ['општо', 'маркетинг', 'дизајн', 'програмирање', 'Data Science', 'Soft. Test.', 'UX/UI']"
   ]
  },
  {
   "cell_type": "code",
   "execution_count": 29,
   "metadata": {},
   "outputs": [
    {
     "name": "stdout",
     "output_type": "stream",
     "text": [
      "(418, 300)\n",
      "(105, 300)\n",
      "(418,)\n",
      "(105,)\n"
     ]
    }
   ],
   "source": [
    "print(X_train.shape)\n",
    "print(X_test.shape)\n",
    "print(y_train.shape)\n",
    "print(y_test.shape)"
   ]
  },
  {
   "cell_type": "code",
   "execution_count": 42,
   "metadata": {
    "scrolled": true
   },
   "outputs": [
    {
     "name": "stdout",
     "output_type": "stream",
     "text": [
      "              precision    recall  f1-score   support\n",
      "\n",
      "       општо       0.50      0.25      0.33         4\n",
      "   маркетинг       0.83      1.00      0.91         5\n",
      "      дизајн       1.00      0.92      0.96        26\n",
      "програмирање       0.73      0.93      0.82        29\n",
      "Data Science       1.00      0.89      0.94        18\n",
      " Soft. Test.       0.89      0.73      0.80        11\n",
      "       UX/UI       0.91      0.83      0.87        12\n",
      "\n",
      "    accuracy                           0.87       105\n",
      "   macro avg       0.84      0.79      0.80       105\n",
      "weighted avg       0.88      0.87      0.86       105\n",
      "\n"
     ]
    },
    {
     "data": {
      "image/png": "[encoded data removed]",
      "text/plain": [
       "<Figure size 432x288 with 2 Axes>"
      ]
     },
     "metadata": {
      "needs_background": "light"
     },
     "output_type": "display_data"
    }
   ],
   "source": [
    "# Building the Random Forest Classifier\n",
    "rf_classifier = RandomForestClassifier(random_state=10)\n",
    "\n",
    "rf_classifier.fit(X_train, y_train)\n",
    "\n",
    "rf_pred = rf_classifier.predict(X_test)\n",
    "\n",
    "#Printing the classification report\n",
    "rf_class_report = classification_report(y_test, rf_pred, target_names=cat_labels)\n",
    "print(rf_class_report)\n",
    "\n",
    "#confusion_matrix()\n",
    "plot_confusion_matrix(y_test, rf_pred, cat_labels)"
   ]
  },
  {
   "cell_type": "code",
   "execution_count": 39,
   "metadata": {},
   "outputs": [
    {
     "name": "stdout",
     "output_type": "stream",
     "text": [
      "              precision    recall  f1-score   support\n",
      "\n",
      "       општо       0.67      0.50      0.57         4\n",
      "   маркетинг       0.71      1.00      0.83         5\n",
      "      дизајн       1.00      0.92      0.96        26\n",
      "програмирање       0.76      0.97      0.85        29\n",
      "Data Science       1.00      0.83      0.91        18\n",
      " Soft. Test.       1.00      0.82      0.90        11\n",
      "       UX/UI       1.00      0.83      0.91        12\n",
      "\n",
      "    accuracy                           0.89       105\n",
      "   macro avg       0.88      0.84      0.85       105\n",
      "weighted avg       0.91      0.89      0.89       105\n",
      "\n"
     ]
    },
    {
     "data": {
      "image/png": "[encoded data removed]",
      "text/plain": [
       "<Figure size 432x288 with 2 Axes>"
      ]
     },
     "metadata": {
      "needs_background": "light"
     },
     "output_type": "display_data"
    }
   ],
   "source": [
    "import xgboost as xgb\n",
    "\n",
    "# Building the Random Forest Classifier\n",
    "xgb_classifier = xgb.XGBClassifier()\n",
    "\n",
    "xgb_classifier.fit(X_train, y_train)\n",
    "\n",
    "xgb_pred = xgb_classifier.predict(X_test)\n",
    "\n",
    "#Printing the classification report\n",
    "xgb_class_report = classification_report(y_test, xgb_pred, target_names=cat_labels)\n",
    "print(xgb_class_report)\n",
    "\n",
    "#confusion_matrix()\n",
    "plot_confusion_matrix(y_test, xgb_pred, cat_labels)"
   ]
  },
  {
   "cell_type": "code",
   "execution_count": 31,
   "metadata": {},
   "outputs": [
    {
     "name": "stdout",
     "output_type": "stream",
     "text": [
      "              precision    recall  f1-score   support\n",
      "\n",
      "           0       0.21      0.75      0.33         4\n",
      "           1       0.83      1.00      0.91         5\n",
      "           2       1.00      0.88      0.94        26\n",
      "           3       0.80      0.69      0.74        29\n",
      "           4       1.00      0.89      0.94        18\n",
      "           5       1.00      0.82      0.90        11\n",
      "           6       1.00      1.00      1.00        12\n",
      "\n",
      "    accuracy                           0.84       105\n",
      "   macro avg       0.84      0.86      0.82       105\n",
      "weighted avg       0.91      0.84      0.86       105\n",
      "\n"
     ]
    },
    {
     "data": {
      "image/png": "[encoded data removed]",
      "text/plain": [
       "<Figure size 432x288 with 2 Axes>"
      ]
     },
     "metadata": {
      "needs_background": "light"
     },
     "output_type": "display_data"
    }
   ],
   "source": [
    "# Building the Naive Bayes Classifier\n",
    "bayes_classifier = BernoulliNB()\n",
    "\n",
    "bayes_classifier.fit(X_train, y_train)\n",
    "\n",
    "bayes_pred = bayes_classifier.predict(X_test)\n",
    "\n",
    "#Printing the classification report\n",
    "bayes_class_report = classification_report(y_test, bayes_pred)\n",
    "print(bayes_class_report)\n",
    "\n",
    "#confusion_matrix()\n",
    "plot_confusion_matrix(y_test, bayes_pred, cat_labels)"
   ]
  },
  {
   "cell_type": "code",
   "execution_count": 32,
   "metadata": {},
   "outputs": [
    {
     "name": "stdout",
     "output_type": "stream",
     "text": [
      "              precision    recall  f1-score   support\n",
      "\n",
      "           0       0.67      0.50      0.57         4\n",
      "           1       0.71      1.00      0.83         5\n",
      "           2       0.92      0.92      0.92        26\n",
      "           3       0.89      0.83      0.86        29\n",
      "           4       0.86      1.00      0.92        18\n",
      "           5       0.89      0.73      0.80        11\n",
      "           6       0.92      0.92      0.92        12\n",
      "\n",
      "    accuracy                           0.88       105\n",
      "   macro avg       0.84      0.84      0.83       105\n",
      "weighted avg       0.88      0.88      0.87       105\n",
      "\n"
     ]
    },
    {
     "data": {
      "image/png": "[encoded data removed]",
      "text/plain": [
       "<Figure size 432x288 with 2 Axes>"
      ]
     },
     "metadata": {
      "needs_background": "light"
     },
     "output_type": "display_data"
    }
   ],
   "source": [
    "# Building the KNearest Neighbors Classifier\n",
    "knn_classifier = KNeighborsClassifier(n_neighbors=3,\n",
    "                                    weights='distance',\n",
    "                                    p=2,\n",
    "                                    n_jobs=-1)\n",
    "\n",
    "knn_classifier.fit(X_train, y_train)\n",
    "\n",
    "knn_pred = knn_classifier.predict(X_test)\n",
    "\n",
    "#Printing the classification report\n",
    "knn_class_report = classification_report(y_test, knn_pred)\n",
    "print(knn_class_report)\n",
    "\n",
    "#confusion_matrix()\n",
    "plot_confusion_matrix(y_test, knn_pred, cat_labels)"
   ]
  },
  {
   "cell_type": "code",
   "execution_count": 33,
   "metadata": {},
   "outputs": [
    {
     "name": "stdout",
     "output_type": "stream",
     "text": [
      "              precision    recall  f1-score   support\n",
      "\n",
      "           0       0.33      0.25      0.29         4\n",
      "           1       1.00      1.00      1.00         5\n",
      "           2       1.00      0.92      0.96        26\n",
      "           3       0.80      0.97      0.88        29\n",
      "           4       1.00      0.94      0.97        18\n",
      "           5       1.00      0.82      0.90        11\n",
      "           6       1.00      1.00      1.00        12\n",
      "\n",
      "    accuracy                           0.91       105\n",
      "   macro avg       0.88      0.84      0.86       105\n",
      "weighted avg       0.92      0.91      0.91       105\n",
      "\n"
     ]
    },
    {
     "data": {
      "image/png": "[encoded data removed]",
      "text/plain": [
       "<Figure size 432x288 with 2 Axes>"
      ]
     },
     "metadata": {
      "needs_background": "light"
     },
     "output_type": "display_data"
    }
   ],
   "source": [
    "# Building the Support Vector Classifier\n",
    "svc_classifier = SVC(kernel='rbf', random_state=10)\n",
    "\n",
    "svc_classifier.fit(X_train, y_train)\n",
    "\n",
    "svc_pred = svc_classifier.predict(X_test)\n",
    "\n",
    "#Printing the classification report\n",
    "svc_class_report = classification_report(y_test, svc_pred)\n",
    "print(svc_class_report)\n",
    "\n",
    "#confusion_matrix()\n",
    "plot_confusion_matrix(y_test, svc_pred, cat_labels)"
   ]
  },
  {
   "cell_type": "code",
   "execution_count": 34,
   "metadata": {},
   "outputs": [
    {
     "name": "stdout",
     "output_type": "stream",
     "text": [
      "              precision    recall  f1-score   support\n",
      "\n",
      "           0       0.33      0.25      0.29         4\n",
      "           1       0.83      1.00      0.91         5\n",
      "           2       1.00      0.92      0.96        26\n",
      "           3       0.67      0.90      0.76        29\n",
      "           4       1.00      0.67      0.80        18\n",
      "           5       0.90      0.82      0.86        11\n",
      "           6       0.82      0.75      0.78        12\n",
      "\n",
      "    accuracy                           0.82       105\n",
      "   macro avg       0.79      0.76      0.77       105\n",
      "weighted avg       0.84      0.82      0.82       105\n",
      "\n"
     ]
    },
    {
     "data": {
      "image/png": "[encoded data removed]",
      "text/plain": [
       "<Figure size 432x288 with 2 Axes>"
      ]
     },
     "metadata": {
      "needs_background": "light"
     },
     "output_type": "display_data"
    }
   ],
   "source": [
    "# Building the Gradient Boost Classifier\n",
    "gb_classifier = GradientBoostingClassifier(learning_rate=0.2,\n",
    "                                          min_samples_leaf=1,\n",
    "                                          max_depth=5,\n",
    "                                          random_state=10)\n",
    "\n",
    "gb_classifier.fit(X_train, y_train)\n",
    "\n",
    "gb_pred = gb_classifier.predict(X_test)\n",
    "\n",
    "#Printing the classification report\n",
    "gb_class_report = classification_report(y_test, gb_pred)\n",
    "print(gb_class_report)\n",
    "\n",
    "#confusion_matrix()\n",
    "plot_confusion_matrix(y_test, gb_pred, cat_labels)"
   ]
  },
  {
   "cell_type": "code",
   "execution_count": 35,
   "metadata": {},
   "outputs": [
    {
     "name": "stdout",
     "output_type": "stream",
     "text": [
      "              precision    recall  f1-score   support\n",
      "\n",
      "           0       0.00      0.00      0.00         4\n",
      "           1       0.31      1.00      0.48         5\n",
      "           2       1.00      0.81      0.89        26\n",
      "           3       0.68      0.79      0.73        29\n",
      "           4       1.00      0.67      0.80        18\n",
      "           5       0.78      0.64      0.70        11\n",
      "           6       0.83      0.83      0.83        12\n",
      "\n",
      "    accuracy                           0.74       105\n",
      "   macro avg       0.66      0.68      0.63       105\n",
      "weighted avg       0.80      0.74      0.75       105\n",
      "\n"
     ]
    },
    {
     "data": {
      "image/png": "[encoded data removed]",
      "text/plain": [
       "<Figure size 432x288 with 2 Axes>"
      ]
     },
     "metadata": {
      "needs_background": "light"
     },
     "output_type": "display_data"
    }
   ],
   "source": [
    "# Building the ADABoost Classifier\n",
    "ada_classifier = AdaBoostClassifier(n_estimators=100,\n",
    "                                   learning_rate=0.3,\n",
    "                                   random_state=10)\n",
    "\n",
    "ada_classifier.fit(X_train, y_train)\n",
    "\n",
    "ada_pred = ada_classifier.predict(X_test)\n",
    "\n",
    "#Printing the classification report\n",
    "ada_class_report = classification_report(y_test, ada_pred)\n",
    "print(ada_class_report)\n",
    "\n",
    "#confusion_matrix()\n",
    "plot_confusion_matrix(y_test, ada_pred, cat_labels)"
   ]
  },
  {
   "cell_type": "markdown",
   "metadata": {},
   "source": [
    "# НАДОЛУ Е ТЕСТ КОД"
   ]
  },
  {
   "cell_type": "code",
   "execution_count": null,
   "metadata": {},
   "outputs": [],
   "source": [
    "print(qus[0])\n",
    "print()\n",
    "print(corpus[112:114])"
   ]
  },
  {
   "cell_type": "code",
   "execution_count": null,
   "metadata": {
    "scrolled": true
   },
   "outputs": [],
   "source": [
    "(corpus_vec[112].toarray() * corpus_vec[113].toarray()).sum()"
   ]
  },
  {
   "cell_type": "code",
   "execution_count": null,
   "metadata": {},
   "outputs": [],
   "source": []
  },
  {
   "cell_type": "code",
   "execution_count": null,
   "metadata": {},
   "outputs": [],
   "source": [
    "np.inner(corpus_vec[113].toarray()[0], corpus_vec[113].toarray()[0])"
   ]
  },
  {
   "cell_type": "code",
   "execution_count": null,
   "metadata": {},
   "outputs": [],
   "source": [
    "from scipy.spatial.distance import dice, cosine, correlation\n",
    "\n",
    "print('cosine = ', cosine(tq.toarray(), corpus_vec[89].toarray()))\n",
    "\n",
    "print('correlation = ', correlation(tq.toarray(), corpus_vec[89].toarray()))\n",
    "\n",
    "print('dice = ', dice(tq.toarray(), corpus_vec[89].toarray()))"
   ]
  },
  {
   "cell_type": "code",
   "execution_count": null,
   "metadata": {},
   "outputs": [],
   "source": [
    "cosine_function = lambda a, b : np.inner(a, b)/(np.linalg.norm(a)*np.linalg.norm(b))\n",
    "max(max(cosine_function(tq.toarray(), corpus_vec[89].toarray())))"
   ]
  },
  {
   "cell_type": "code",
   "execution_count": null,
   "metadata": {},
   "outputs": [],
   "source": [
    "np.inner(tq.toarray(), corpus_vec[89].toarray())[0,0]"
   ]
  },
  {
   "cell_type": "code",
   "execution_count": null,
   "metadata": {},
   "outputs": [],
   "source": [
    "a = tq\n",
    "b = corpus_vec[89]\n",
    "print(a)\n",
    "print()\n",
    "print(b)"
   ]
  },
  {
   "cell_type": "code",
   "execution_count": null,
   "metadata": {},
   "outputs": [],
   "source": [
    "#c = a==b\n",
    "a = tq\n",
    "b = corpus_vec[89]\n",
    "def dice_sim(a, b):\n",
    "    a = a.toarray().flatten().astype(bool)\n",
    "    b = b.toarray().flatten().astype(bool)\n",
    "    return 2.0*np.logical_and(a, b).sum()/(a.sum() + b.sum())\n",
    "\n",
    "dice_sim(a,a)"
   ]
  },
  {
   "cell_type": "code",
   "execution_count": null,
   "metadata": {},
   "outputs": [],
   "source": [
    "dice(a.toarray(), b.toarray())"
   ]
  },
  {
   "cell_type": "code",
   "execution_count": null,
   "metadata": {},
   "outputs": [],
   "source": [
    "dice([0, 1, 0], [0, 1, 0])"
   ]
  },
  {
   "cell_type": "code",
   "execution_count": null,
   "metadata": {},
   "outputs": [],
   "source": [
    "dice_sim(np.asarray([0, 1, 0]), np.asarray([1, 0, 0]))"
   ]
  },
  {
   "cell_type": "code",
   "execution_count": null,
   "metadata": {},
   "outputs": [],
   "source": [
    "p = np.array([0, 1, 0])\n",
    "q = np.array([0, 1, 0])\n",
    "\n",
    "print('cosine = ', cosine(p, q))\n",
    "\n",
    "print('correlation = ', correlation(p, q))\n",
    "\n",
    "print('dice = ', dice(p, q))"
   ]
  },
  {
   "cell_type": "code",
   "execution_count": null,
   "metadata": {},
   "outputs": [],
   "source": [
    "def dice_sim_2(a, b):\n",
    "    a = a.astype(bool)\n",
    "    b = b.astype(bool)\n",
    "    return 2.0*np.logical_and(a, b).sum()/(a.sum() + b.sum())\n",
    "\n",
    "dice_sim_2(p, q)"
   ]
  },
  {
   "cell_type": "code",
   "execution_count": null,
   "metadata": {},
   "outputs": [],
   "source": [
    "hasattr(a, ('toarray', 'flatten'))"
   ]
  },
  {
   "cell_type": "code",
   "execution_count": null,
   "metadata": {},
   "outputs": [],
   "source": []
  }
 ],
 "metadata": {
  "kernelspec": {
   "display_name": "Python 3",
   "language": "python",
   "name": "python3"
  },
  "language_info": {
   "codemirror_mode": {
    "name": "ipython",
    "version": 3
   },
   "file_extension": ".py",
   "mimetype": "text/x-python",
   "name": "python",
   "nbconvert_exporter": "python",
   "pygments_lexer": "ipython3",
   "version": "3.7.6"
  }
 },
 "nbformat": 4,
 "nbformat_minor": 4
}
